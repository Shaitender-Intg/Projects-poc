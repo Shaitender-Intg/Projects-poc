{
  "nbformat": 4,
  "nbformat_minor": 0,
  "metadata": {
    "colab": {
      "name": "RepeatBuyersPrediction.ipynb",
      "provenance": [],
      "include_colab_link": true
    },
    "kernelspec": {
      "name": "python3",
      "display_name": "Python 3"
    }
  },
  "cells": [
    {
      "cell_type": "markdown",
      "metadata": {
        "id": "view-in-github",
        "colab_type": "text"
      },
      "source": [
        "<a href=\"https://colab.research.google.com/github/Shaitender/Projects-poc/blob/master/RepeatBuyersPrediction.ipynb\" target=\"_parent\"><img src=\"https://colab.research.google.com/assets/colab-badge.svg\" alt=\"Open In Colab\"/></a>"
      ]
    },
    {
      "cell_type": "code",
      "metadata": {
        "id": "oA2wnxYGSXsG",
        "colab_type": "code",
        "colab": {}
      },
      "source": [
        "#!unzip /content/data_format1.zip -d /content/data_format1\n",
        "#!unzip /content/data_format2.zip -d /content/data_format2"
      ],
      "execution_count": 0,
      "outputs": []
    },
    {
      "cell_type": "code",
      "metadata": {
        "id": "R8MjEXmNUNhH",
        "colab_type": "code",
        "colab": {}
      },
      "source": [
        "import numpy as np\n",
        "import matplotlib.pyplot as plt\n",
        "import seaborn as sns\n",
        "import pandas as pd\n",
        "%matplotlib inline"
      ],
      "execution_count": 0,
      "outputs": []
    },
    {
      "cell_type": "code",
      "metadata": {
        "id": "cQXWmiC0zQM5",
        "colab_type": "code",
        "colab": {}
      },
      "source": [
        "data_format1_paths = '/content/data_format1'\n",
        "data_format2_paths = '/content/data_format2'\n",
        "\n",
        "# data_format 1\n",
        "data = pd.read_csv(f'{data_format1_paths}/user_log_format1.csv', dtype={'time_stamp':'str'})\n",
        "data1 = pd.read_csv(f'{data_format1_paths}/user_info_format1.csv')\n",
        "data2 = pd.read_csv(f'{data_format1_paths}/train_format1.csv')\n",
        "submission = pd.read_csv(f'{data_format1_paths}/test_format1.csv')\n",
        "\n",
        "# data_format 2\n",
        "data_train = pd.read_csv(f'{data_format2_paths}/test_format2.csv')\n",
        "data_test = pd.read_csv(f'{data_format2_paths}/test_format2.csv')"
      ],
      "execution_count": 0,
      "outputs": []
    },
    {
      "cell_type": "code",
      "metadata": {
        "id": "FvliTcz_Ubyd",
        "colab_type": "code",
        "colab": {
          "base_uri": "https://localhost:8080/",
          "height": 204
        },
        "outputId": "a84934d1-5f31-43d1-b8f9-dec69a01b9eb"
      },
      "source": [
        "data.head()"
      ],
      "execution_count": 4,
      "outputs": [
        {
          "output_type": "execute_result",
          "data": {
            "text/html": [
              "<div>\n",
              "<style scoped>\n",
              "    .dataframe tbody tr th:only-of-type {\n",
              "        vertical-align: middle;\n",
              "    }\n",
              "\n",
              "    .dataframe tbody tr th {\n",
              "        vertical-align: top;\n",
              "    }\n",
              "\n",
              "    .dataframe thead th {\n",
              "        text-align: right;\n",
              "    }\n",
              "</style>\n",
              "<table border=\"1\" class=\"dataframe\">\n",
              "  <thead>\n",
              "    <tr style=\"text-align: right;\">\n",
              "      <th></th>\n",
              "      <th>user_id</th>\n",
              "      <th>item_id</th>\n",
              "      <th>cat_id</th>\n",
              "      <th>seller_id</th>\n",
              "      <th>brand_id</th>\n",
              "      <th>time_stamp</th>\n",
              "      <th>action_type</th>\n",
              "    </tr>\n",
              "  </thead>\n",
              "  <tbody>\n",
              "    <tr>\n",
              "      <th>0</th>\n",
              "      <td>328862</td>\n",
              "      <td>323294</td>\n",
              "      <td>833</td>\n",
              "      <td>2882</td>\n",
              "      <td>2661.0</td>\n",
              "      <td>0829</td>\n",
              "      <td>0</td>\n",
              "    </tr>\n",
              "    <tr>\n",
              "      <th>1</th>\n",
              "      <td>328862</td>\n",
              "      <td>844400</td>\n",
              "      <td>1271</td>\n",
              "      <td>2882</td>\n",
              "      <td>2661.0</td>\n",
              "      <td>0829</td>\n",
              "      <td>0</td>\n",
              "    </tr>\n",
              "    <tr>\n",
              "      <th>2</th>\n",
              "      <td>328862</td>\n",
              "      <td>575153</td>\n",
              "      <td>1271</td>\n",
              "      <td>2882</td>\n",
              "      <td>2661.0</td>\n",
              "      <td>0829</td>\n",
              "      <td>0</td>\n",
              "    </tr>\n",
              "    <tr>\n",
              "      <th>3</th>\n",
              "      <td>328862</td>\n",
              "      <td>996875</td>\n",
              "      <td>1271</td>\n",
              "      <td>2882</td>\n",
              "      <td>2661.0</td>\n",
              "      <td>0829</td>\n",
              "      <td>0</td>\n",
              "    </tr>\n",
              "    <tr>\n",
              "      <th>4</th>\n",
              "      <td>328862</td>\n",
              "      <td>1086186</td>\n",
              "      <td>1271</td>\n",
              "      <td>1253</td>\n",
              "      <td>1049.0</td>\n",
              "      <td>0829</td>\n",
              "      <td>0</td>\n",
              "    </tr>\n",
              "  </tbody>\n",
              "</table>\n",
              "</div>"
            ],
            "text/plain": [
              "   user_id  item_id  cat_id  seller_id  brand_id time_stamp  action_type\n",
              "0   328862   323294     833       2882    2661.0       0829            0\n",
              "1   328862   844400    1271       2882    2661.0       0829            0\n",
              "2   328862   575153    1271       2882    2661.0       0829            0\n",
              "3   328862   996875    1271       2882    2661.0       0829            0\n",
              "4   328862  1086186    1271       1253    1049.0       0829            0"
            ]
          },
          "metadata": {
            "tags": []
          },
          "execution_count": 4
        }
      ]
    },
    {
      "cell_type": "code",
      "metadata": {
        "id": "rDFdqQYd04HC",
        "colab_type": "code",
        "colab": {
          "base_uri": "https://localhost:8080/",
          "height": 204
        },
        "outputId": "e861d850-793b-4087-aa43-91f2991b72e6"
      },
      "source": [
        "data1.head()"
      ],
      "execution_count": 5,
      "outputs": [
        {
          "output_type": "execute_result",
          "data": {
            "text/html": [
              "<div>\n",
              "<style scoped>\n",
              "    .dataframe tbody tr th:only-of-type {\n",
              "        vertical-align: middle;\n",
              "    }\n",
              "\n",
              "    .dataframe tbody tr th {\n",
              "        vertical-align: top;\n",
              "    }\n",
              "\n",
              "    .dataframe thead th {\n",
              "        text-align: right;\n",
              "    }\n",
              "</style>\n",
              "<table border=\"1\" class=\"dataframe\">\n",
              "  <thead>\n",
              "    <tr style=\"text-align: right;\">\n",
              "      <th></th>\n",
              "      <th>user_id</th>\n",
              "      <th>age_range</th>\n",
              "      <th>gender</th>\n",
              "    </tr>\n",
              "  </thead>\n",
              "  <tbody>\n",
              "    <tr>\n",
              "      <th>0</th>\n",
              "      <td>376517</td>\n",
              "      <td>6.0</td>\n",
              "      <td>1.0</td>\n",
              "    </tr>\n",
              "    <tr>\n",
              "      <th>1</th>\n",
              "      <td>234512</td>\n",
              "      <td>5.0</td>\n",
              "      <td>0.0</td>\n",
              "    </tr>\n",
              "    <tr>\n",
              "      <th>2</th>\n",
              "      <td>344532</td>\n",
              "      <td>5.0</td>\n",
              "      <td>0.0</td>\n",
              "    </tr>\n",
              "    <tr>\n",
              "      <th>3</th>\n",
              "      <td>186135</td>\n",
              "      <td>5.0</td>\n",
              "      <td>0.0</td>\n",
              "    </tr>\n",
              "    <tr>\n",
              "      <th>4</th>\n",
              "      <td>30230</td>\n",
              "      <td>5.0</td>\n",
              "      <td>0.0</td>\n",
              "    </tr>\n",
              "  </tbody>\n",
              "</table>\n",
              "</div>"
            ],
            "text/plain": [
              "   user_id  age_range  gender\n",
              "0   376517        6.0     1.0\n",
              "1   234512        5.0     0.0\n",
              "2   344532        5.0     0.0\n",
              "3   186135        5.0     0.0\n",
              "4    30230        5.0     0.0"
            ]
          },
          "metadata": {
            "tags": []
          },
          "execution_count": 5
        }
      ]
    },
    {
      "cell_type": "code",
      "metadata": {
        "id": "HWwzBzT31ECX",
        "colab_type": "code",
        "colab": {
          "base_uri": "https://localhost:8080/",
          "height": 204
        },
        "outputId": "ee2dd4ef-39f2-4ff2-eef0-ac4bf29317a7"
      },
      "source": [
        "data2.head()"
      ],
      "execution_count": 6,
      "outputs": [
        {
          "output_type": "execute_result",
          "data": {
            "text/html": [
              "<div>\n",
              "<style scoped>\n",
              "    .dataframe tbody tr th:only-of-type {\n",
              "        vertical-align: middle;\n",
              "    }\n",
              "\n",
              "    .dataframe tbody tr th {\n",
              "        vertical-align: top;\n",
              "    }\n",
              "\n",
              "    .dataframe thead th {\n",
              "        text-align: right;\n",
              "    }\n",
              "</style>\n",
              "<table border=\"1\" class=\"dataframe\">\n",
              "  <thead>\n",
              "    <tr style=\"text-align: right;\">\n",
              "      <th></th>\n",
              "      <th>user_id</th>\n",
              "      <th>merchant_id</th>\n",
              "      <th>label</th>\n",
              "    </tr>\n",
              "  </thead>\n",
              "  <tbody>\n",
              "    <tr>\n",
              "      <th>0</th>\n",
              "      <td>34176</td>\n",
              "      <td>3906</td>\n",
              "      <td>0</td>\n",
              "    </tr>\n",
              "    <tr>\n",
              "      <th>1</th>\n",
              "      <td>34176</td>\n",
              "      <td>121</td>\n",
              "      <td>0</td>\n",
              "    </tr>\n",
              "    <tr>\n",
              "      <th>2</th>\n",
              "      <td>34176</td>\n",
              "      <td>4356</td>\n",
              "      <td>1</td>\n",
              "    </tr>\n",
              "    <tr>\n",
              "      <th>3</th>\n",
              "      <td>34176</td>\n",
              "      <td>2217</td>\n",
              "      <td>0</td>\n",
              "    </tr>\n",
              "    <tr>\n",
              "      <th>4</th>\n",
              "      <td>230784</td>\n",
              "      <td>4818</td>\n",
              "      <td>0</td>\n",
              "    </tr>\n",
              "  </tbody>\n",
              "</table>\n",
              "</div>"
            ],
            "text/plain": [
              "   user_id  merchant_id  label\n",
              "0    34176         3906      0\n",
              "1    34176          121      0\n",
              "2    34176         4356      1\n",
              "3    34176         2217      0\n",
              "4   230784         4818      0"
            ]
          },
          "metadata": {
            "tags": []
          },
          "execution_count": 6
        }
      ]
    },
    {
      "cell_type": "code",
      "metadata": {
        "id": "fjHXdE4u2EW3",
        "colab_type": "code",
        "colab": {
          "base_uri": "https://localhost:8080/",
          "height": 204
        },
        "outputId": "26d424a1-3c69-4bbf-fabf-8245b5a57190"
      },
      "source": [
        "submission.head()"
      ],
      "execution_count": 7,
      "outputs": [
        {
          "output_type": "execute_result",
          "data": {
            "text/html": [
              "<div>\n",
              "<style scoped>\n",
              "    .dataframe tbody tr th:only-of-type {\n",
              "        vertical-align: middle;\n",
              "    }\n",
              "\n",
              "    .dataframe tbody tr th {\n",
              "        vertical-align: top;\n",
              "    }\n",
              "\n",
              "    .dataframe thead th {\n",
              "        text-align: right;\n",
              "    }\n",
              "</style>\n",
              "<table border=\"1\" class=\"dataframe\">\n",
              "  <thead>\n",
              "    <tr style=\"text-align: right;\">\n",
              "      <th></th>\n",
              "      <th>user_id</th>\n",
              "      <th>merchant_id</th>\n",
              "      <th>prob</th>\n",
              "    </tr>\n",
              "  </thead>\n",
              "  <tbody>\n",
              "    <tr>\n",
              "      <th>0</th>\n",
              "      <td>163968</td>\n",
              "      <td>4605</td>\n",
              "      <td>NaN</td>\n",
              "    </tr>\n",
              "    <tr>\n",
              "      <th>1</th>\n",
              "      <td>360576</td>\n",
              "      <td>1581</td>\n",
              "      <td>NaN</td>\n",
              "    </tr>\n",
              "    <tr>\n",
              "      <th>2</th>\n",
              "      <td>98688</td>\n",
              "      <td>1964</td>\n",
              "      <td>NaN</td>\n",
              "    </tr>\n",
              "    <tr>\n",
              "      <th>3</th>\n",
              "      <td>98688</td>\n",
              "      <td>3645</td>\n",
              "      <td>NaN</td>\n",
              "    </tr>\n",
              "    <tr>\n",
              "      <th>4</th>\n",
              "      <td>295296</td>\n",
              "      <td>3361</td>\n",
              "      <td>NaN</td>\n",
              "    </tr>\n",
              "  </tbody>\n",
              "</table>\n",
              "</div>"
            ],
            "text/plain": [
              "   user_id  merchant_id  prob\n",
              "0   163968         4605   NaN\n",
              "1   360576         1581   NaN\n",
              "2    98688         1964   NaN\n",
              "3    98688         3645   NaN\n",
              "4   295296         3361   NaN"
            ]
          },
          "metadata": {
            "tags": []
          },
          "execution_count": 7
        }
      ]
    },
    {
      "cell_type": "code",
      "metadata": {
        "id": "ajnwSExg2i6H",
        "colab_type": "code",
        "colab": {
          "base_uri": "https://localhost:8080/",
          "height": 204
        },
        "outputId": "22c108b3-54dd-4259-aef7-dc4df4cf4b38"
      },
      "source": [
        "data_train.head()"
      ],
      "execution_count": 8,
      "outputs": [
        {
          "output_type": "execute_result",
          "data": {
            "text/html": [
              "<div>\n",
              "<style scoped>\n",
              "    .dataframe tbody tr th:only-of-type {\n",
              "        vertical-align: middle;\n",
              "    }\n",
              "\n",
              "    .dataframe tbody tr th {\n",
              "        vertical-align: top;\n",
              "    }\n",
              "\n",
              "    .dataframe thead th {\n",
              "        text-align: right;\n",
              "    }\n",
              "</style>\n",
              "<table border=\"1\" class=\"dataframe\">\n",
              "  <thead>\n",
              "    <tr style=\"text-align: right;\">\n",
              "      <th></th>\n",
              "      <th>user_id</th>\n",
              "      <th>age_range</th>\n",
              "      <th>gender</th>\n",
              "      <th>merchant_id</th>\n",
              "      <th>label</th>\n",
              "      <th>activity_log</th>\n",
              "    </tr>\n",
              "  </thead>\n",
              "  <tbody>\n",
              "    <tr>\n",
              "      <th>0</th>\n",
              "      <td>163968</td>\n",
              "      <td>0.0</td>\n",
              "      <td>0.0</td>\n",
              "      <td>4378</td>\n",
              "      <td>-1.0</td>\n",
              "      <td>101206:812:6968:0614:0</td>\n",
              "    </tr>\n",
              "    <tr>\n",
              "      <th>1</th>\n",
              "      <td>163968</td>\n",
              "      <td>0.0</td>\n",
              "      <td>0.0</td>\n",
              "      <td>2300</td>\n",
              "      <td>-1.0</td>\n",
              "      <td>588758:844:3833:0618:0#71782:844:3833:1111:2#7...</td>\n",
              "    </tr>\n",
              "    <tr>\n",
              "      <th>2</th>\n",
              "      <td>163968</td>\n",
              "      <td>0.0</td>\n",
              "      <td>0.0</td>\n",
              "      <td>1551</td>\n",
              "      <td>-1.0</td>\n",
              "      <td>312747:243:1954:0627:0#312747:243:1954:0627:0#...</td>\n",
              "    </tr>\n",
              "    <tr>\n",
              "      <th>3</th>\n",
              "      <td>163968</td>\n",
              "      <td>0.0</td>\n",
              "      <td>0.0</td>\n",
              "      <td>4343</td>\n",
              "      <td>-1.0</td>\n",
              "      <td>932390:1612:3201:0628:0</td>\n",
              "    </tr>\n",
              "    <tr>\n",
              "      <th>4</th>\n",
              "      <td>163968</td>\n",
              "      <td>0.0</td>\n",
              "      <td>0.0</td>\n",
              "      <td>4911</td>\n",
              "      <td>-1.0</td>\n",
              "      <td>957657:662:3089:0612:0</td>\n",
              "    </tr>\n",
              "  </tbody>\n",
              "</table>\n",
              "</div>"
            ],
            "text/plain": [
              "   user_id  age_range  ...  label                                       activity_log\n",
              "0   163968        0.0  ...   -1.0                             101206:812:6968:0614:0\n",
              "1   163968        0.0  ...   -1.0  588758:844:3833:0618:0#71782:844:3833:1111:2#7...\n",
              "2   163968        0.0  ...   -1.0  312747:243:1954:0627:0#312747:243:1954:0627:0#...\n",
              "3   163968        0.0  ...   -1.0                            932390:1612:3201:0628:0\n",
              "4   163968        0.0  ...   -1.0                             957657:662:3089:0612:0\n",
              "\n",
              "[5 rows x 6 columns]"
            ]
          },
          "metadata": {
            "tags": []
          },
          "execution_count": 8
        }
      ]
    },
    {
      "cell_type": "code",
      "metadata": {
        "id": "Vo3uA3e22qvl",
        "colab_type": "code",
        "colab": {
          "base_uri": "https://localhost:8080/",
          "height": 204
        },
        "outputId": "04c47026-cb83-4143-c72f-428a17624e00"
      },
      "source": [
        "data_test.head()"
      ],
      "execution_count": 9,
      "outputs": [
        {
          "output_type": "execute_result",
          "data": {
            "text/html": [
              "<div>\n",
              "<style scoped>\n",
              "    .dataframe tbody tr th:only-of-type {\n",
              "        vertical-align: middle;\n",
              "    }\n",
              "\n",
              "    .dataframe tbody tr th {\n",
              "        vertical-align: top;\n",
              "    }\n",
              "\n",
              "    .dataframe thead th {\n",
              "        text-align: right;\n",
              "    }\n",
              "</style>\n",
              "<table border=\"1\" class=\"dataframe\">\n",
              "  <thead>\n",
              "    <tr style=\"text-align: right;\">\n",
              "      <th></th>\n",
              "      <th>user_id</th>\n",
              "      <th>age_range</th>\n",
              "      <th>gender</th>\n",
              "      <th>merchant_id</th>\n",
              "      <th>label</th>\n",
              "      <th>activity_log</th>\n",
              "    </tr>\n",
              "  </thead>\n",
              "  <tbody>\n",
              "    <tr>\n",
              "      <th>0</th>\n",
              "      <td>163968</td>\n",
              "      <td>0.0</td>\n",
              "      <td>0.0</td>\n",
              "      <td>4378</td>\n",
              "      <td>-1.0</td>\n",
              "      <td>101206:812:6968:0614:0</td>\n",
              "    </tr>\n",
              "    <tr>\n",
              "      <th>1</th>\n",
              "      <td>163968</td>\n",
              "      <td>0.0</td>\n",
              "      <td>0.0</td>\n",
              "      <td>2300</td>\n",
              "      <td>-1.0</td>\n",
              "      <td>588758:844:3833:0618:0#71782:844:3833:1111:2#7...</td>\n",
              "    </tr>\n",
              "    <tr>\n",
              "      <th>2</th>\n",
              "      <td>163968</td>\n",
              "      <td>0.0</td>\n",
              "      <td>0.0</td>\n",
              "      <td>1551</td>\n",
              "      <td>-1.0</td>\n",
              "      <td>312747:243:1954:0627:0#312747:243:1954:0627:0#...</td>\n",
              "    </tr>\n",
              "    <tr>\n",
              "      <th>3</th>\n",
              "      <td>163968</td>\n",
              "      <td>0.0</td>\n",
              "      <td>0.0</td>\n",
              "      <td>4343</td>\n",
              "      <td>-1.0</td>\n",
              "      <td>932390:1612:3201:0628:0</td>\n",
              "    </tr>\n",
              "    <tr>\n",
              "      <th>4</th>\n",
              "      <td>163968</td>\n",
              "      <td>0.0</td>\n",
              "      <td>0.0</td>\n",
              "      <td>4911</td>\n",
              "      <td>-1.0</td>\n",
              "      <td>957657:662:3089:0612:0</td>\n",
              "    </tr>\n",
              "  </tbody>\n",
              "</table>\n",
              "</div>"
            ],
            "text/plain": [
              "   user_id  age_range  ...  label                                       activity_log\n",
              "0   163968        0.0  ...   -1.0                             101206:812:6968:0614:0\n",
              "1   163968        0.0  ...   -1.0  588758:844:3833:0618:0#71782:844:3833:1111:2#7...\n",
              "2   163968        0.0  ...   -1.0  312747:243:1954:0627:0#312747:243:1954:0627:0#...\n",
              "3   163968        0.0  ...   -1.0                            932390:1612:3201:0628:0\n",
              "4   163968        0.0  ...   -1.0                             957657:662:3089:0612:0\n",
              "\n",
              "[5 rows x 6 columns]"
            ]
          },
          "metadata": {
            "tags": []
          },
          "execution_count": 9
        }
      ]
    },
    {
      "cell_type": "code",
      "metadata": {
        "id": "oiAMx56Y46G2",
        "colab_type": "code",
        "colab": {}
      },
      "source": [
        "data2['origin'] = 'train'\n",
        "submission['origin'] = 'test'\n",
        "matrix = pd.concat([data2, submission], ignore_index=True, sort=False)\n",
        "matrix.drop(['prob'], axis=1, inplace=True)\n",
        "matrix = matrix.merge(data1, on='user_id', how='left')\n",
        "data.rename(columns={'seller_id':'merchant_id'}, inplace=True)"
      ],
      "execution_count": 0,
      "outputs": []
    },
    {
      "cell_type": "code",
      "metadata": {
        "id": "0Smksl2-6hyv",
        "colab_type": "code",
        "colab": {
          "base_uri": "https://localhost:8080/",
          "height": 34
        },
        "outputId": "7cbe06e3-2e69-47e5-ea59-f096aeb8baee"
      },
      "source": [
        "data['user_id'] = data['user_id'].astype('int32')\n",
        "data['merchant_id'] = data['merchant_id'].astype('int32')\n",
        "data['item_id'] = data['item_id'].astype('int32')\n",
        "data['cat_id'] = data['cat_id'].astype('int32')\n",
        "data['brand_id'].fillna(0, inplace=True)\n",
        "data['brand_id'] = data['brand_id'].astype('int32')\n",
        "data['time_stamp'] = pd.to_datetime(data['time_stamp'], format='%H%M')\n",
        "\n",
        "matrix['age_range'].fillna(0, inplace=True)\n",
        "matrix['gender'].fillna(2, inplace=True)\n",
        "matrix['age_range'] = matrix['age_range'].astype('int8')\n",
        "matrix['gender'] = matrix['gender'].astype('int8')\n",
        "matrix['label'] = matrix['label'].astype('str')\n",
        "matrix['user_id'] = matrix['user_id'].astype('int32')\n",
        "matrix['merchant_id'] = matrix['merchant_id'].astype('int32')\n",
        "\n",
        "import gc\n",
        "\n",
        "del data1, data2\n",
        "gc.collect()"
      ],
      "execution_count": 11,
      "outputs": [
        {
          "output_type": "execute_result",
          "data": {
            "text/plain": [
              "4"
            ]
          },
          "metadata": {
            "tags": []
          },
          "execution_count": 11
        }
      ]
    },
    {
      "cell_type": "code",
      "metadata": {
        "id": "0XGNFhql6oCA",
        "colab_type": "code",
        "colab": {}
      },
      "source": [
        "groups = data.groupby(['user_id'])\n",
        "temp = groups.size().reset_index().rename(columns={0:'u1'})\n",
        "matrix = matrix.merge(temp, on='user_id', how='left')\n",
        "temp = groups['item_id'].agg([('u2', 'nunique')]).reset_index()\n",
        "matrix = matrix.merge(temp, on='user_id', how='left')\n",
        "temp = groups['cat_id'].agg([('u3', 'nunique')]).reset_index()\n",
        "matrix = matrix.merge(temp, on='user_id', how='left')\n",
        "temp = groups['merchant_id'].agg([('u4', 'nunique')]).reset_index()\n",
        "matrix = matrix.merge(temp, on='user_id', how='left')\n",
        "temp = groups['brand_id'].agg([('u5', 'nunique')]).reset_index()\n",
        "matrix = matrix.merge(temp, on='user_id', how='left')\n",
        "temp = groups['time_stamp'].agg([('F_time', 'min'), ('L_time', 'max')]).reset_index()\n",
        "temp['u6'] = (temp['L_time'] - temp['F_time']).dt.seconds/3600\n",
        "matrix = matrix.merge(temp[['user_id', 'u6']], on='user_id', how='left')\n",
        "temp = groups['action_type'].value_counts().unstack().reset_index().rename(columns={0:'u7', 1:'u8', 2:'u9', 3:'u10'})\n",
        "matrix = matrix.merge(temp, on='user_id', how='left')"
      ],
      "execution_count": 0,
      "outputs": []
    },
    {
      "cell_type": "code",
      "metadata": {
        "id": "ii7onc7e6tVV",
        "colab_type": "code",
        "colab": {}
      },
      "source": [
        "groups = data.groupby(['merchant_id'])\n",
        "temp = groups.size().reset_index().rename(columns={0:'m1'})\n",
        "matrix = matrix.merge(temp, on='merchant_id', how='left')\n",
        "temp = groups['user_id', 'item_id', 'cat_id', 'brand_id'].nunique().reset_index().rename(columns={\n",
        "    'user_id':'m2',\n",
        "    'item_id':'m3', \n",
        "    'cat_id':'m4', \n",
        "    'brand_id':'m5'})\n",
        "matrix = matrix.merge(temp, on='merchant_id', how='left')\n",
        "temp = groups['action_type'].value_counts().unstack().reset_index().rename(columns={0:'m6', 1:'m7', 2:'m8', 3:'m9'})\n",
        "matrix = matrix.merge(temp, on='merchant_id', how='left')"
      ],
      "execution_count": 0,
      "outputs": []
    },
    {
      "cell_type": "code",
      "metadata": {
        "id": "bR9trvX673w3",
        "colab_type": "code",
        "colab": {}
      },
      "source": [
        "matrix.head(100)"
      ],
      "execution_count": 0,
      "outputs": []
    },
    {
      "cell_type": "code",
      "metadata": {
        "id": "76AZnbz09u1B",
        "colab_type": "code",
        "colab": {}
      },
      "source": [
        "temp = data_train[data_train['label']==-1].groupby(['merchant_id']).size().reset_index().rename(columns={0:'m10'})\n",
        "matrix = matrix.merge(temp, on='merchant_id', how='left')"
      ],
      "execution_count": 0,
      "outputs": []
    },
    {
      "cell_type": "code",
      "metadata": {
        "id": "jDYBBMwd923T",
        "colab_type": "code",
        "colab": {}
      },
      "source": [
        "matrix.head()"
      ],
      "execution_count": 0,
      "outputs": []
    },
    {
      "cell_type": "code",
      "metadata": {
        "id": "FvX80KA-96Hs",
        "colab_type": "code",
        "colab": {}
      },
      "source": [
        "groups = data.groupby(['user_id', 'merchant_id'])\n",
        "temp = groups.size().reset_index().rename(columns={0:'um1'})\n",
        "matrix = matrix.merge(temp, on=['user_id', 'merchant_id'], how='left')\n",
        "temp = groups['item_id', 'cat_id', 'brand_id'].nunique().reset_index().rename(columns={\n",
        "    'item_id':'um2',\n",
        "    'cat_id':'um3',\n",
        "    'brand_id':'um4'\n",
        "})\n",
        "matrix = matrix.merge(temp, on=['user_id', 'merchant_id'], how='left')\n",
        "temp = groups['action_type'].value_counts().unstack().reset_index().rename(columns={\n",
        "    0:'um5',\n",
        "    1:'um6',\n",
        "    2:'um7',\n",
        "    3:'um8'\n",
        "})\n",
        "matrix = matrix.merge(temp, on=['user_id', 'merchant_id'], how='left')\n",
        "temp = groups['time_stamp'].agg([('frist', 'min'), ('last', 'max')]).reset_index()\n",
        "temp['um9'] = (temp['last'] - temp['frist']).dt.seconds/3600\n",
        "temp.drop(['frist', 'last'], axis=1, inplace=True)\n",
        "matrix = matrix.merge(temp, on=['user_id', 'merchant_id'], how='left')\n"
      ],
      "execution_count": 0,
      "outputs": []
    },
    {
      "cell_type": "code",
      "metadata": {
        "id": "xlG8aoXg-DJg",
        "colab_type": "code",
        "colab": {}
      },
      "source": [
        ""
      ],
      "execution_count": 0,
      "outputs": []
    }
  ]
}